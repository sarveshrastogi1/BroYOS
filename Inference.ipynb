{
  "nbformat": 4,
  "nbformat_minor": 0,
  "metadata": {
    "colab": {
      "provenance": [],
      "authorship_tag": "ABX9TyNbMnkv+BoxEAYU+XMeGAZW",
      "include_colab_link": true
    },
    "kernelspec": {
      "name": "python3",
      "display_name": "Python 3"
    },
    "language_info": {
      "name": "python"
    }
  },
  "cells": [
    {
      "cell_type": "markdown",
      "metadata": {
        "id": "view-in-github",
        "colab_type": "text"
      },
      "source": [
        "<a href=\"https://colab.research.google.com/github/sarveshrastogi1/BroYOS/blob/main/Inference.ipynb\" target=\"_parent\"><img src=\"https://colab.research.google.com/assets/colab-badge.svg\" alt=\"Open In Colab\"/></a>"
      ]
    },
    {
      "cell_type": "markdown",
      "source": [
        "# DR Inference"
      ],
      "metadata": {
        "id": "14p136b5WDAr"
      }
    },
    {
      "cell_type": "code",
      "source": [
        "import torch\n",
        "import torch.nn as nn\n",
        "import numpy as np\n",
        "from torchvision import datasets\n",
        "from albumentations import Compose, Normalize, Resize\n",
        "from albumentations.pytorch import ToTensorV2\n",
        "from timm import create_model\n",
        "from torchvision import models\n",
        "\n",
        "# --- DEVICE SETUP ---\n",
        "DEVICE = 'cuda' if torch.cuda.is_available() else 'cpu'\n",
        "IMG_SIZE = 224\n",
        "NUM_CLASSES = 5\n",
        "\n",
        "# --- LOAD CLASS NAMES FROM TRAINING DATA ---\n",
        "def get_class_names(root_folder):\n",
        "    dataset = datasets.ImageFolder(root_folder)  # Load the dataset to get the class-to-index mapping\n",
        "    return dataset.classes  # List of class names in alphabetical order\n",
        "\n",
        "# --- TRANSFORMS FOR INFERENCE ---\n",
        "def get_inference_transforms():\n",
        "    return Compose([\n",
        "        Resize(IMG_SIZE, IMG_SIZE),\n",
        "        Normalize(mean=(0.485, 0.456, 0.406), std=(0.229, 0.224, 0.225)),\n",
        "        ToTensorV2(),\n",
        "    ])\n",
        "\n",
        "# --- ENSEMBLE MODEL CLASS ---\n",
        "class EnsembleModel(nn.Module):\n",
        "    def __init__(self):\n",
        "        super().__init__()\n",
        "        self.efficientnet = models.efficientnet_b0(weights='IMAGENET1K_V1')\n",
        "        self.efficientnet.classifier[1] = nn.Linear(self.efficientnet.classifier[1].in_features, NUM_CLASSES)\n",
        "        self.vit = create_model('vit_base_patch16_224', pretrained=True, num_classes=NUM_CLASSES)\n",
        "\n",
        "    def forward(self, x):\n",
        "        out1 = self.efficientnet(x)\n",
        "        out2 = self.vit(x)\n",
        "        return (out1 + out2) / 2\n",
        "\n",
        "# --- LOAD MODEL AND WEIGHTS ---\n",
        "def load_model(weights_path='best_ensemble_model.pth'):\n",
        "    model = EnsembleModel().to(DEVICE)\n",
        "    model.load_state_dict(torch.load(weights_path, map_location=DEVICE))\n",
        "    model.eval()\n",
        "    return model\n",
        "\n",
        "# --- INFERENCE FUNCTION ---\n",
        "def infer(model, image_path, class_names):\n",
        "    transform = get_inference_transforms()\n",
        "    image = datasets.folder.default_loader(image_path)  # Load image using torchvision's loader\n",
        "    image = transform(image=np.array(image))['image'].unsqueeze(0).to(DEVICE)  # Apply transforms and add batch dim\n",
        "\n",
        "    with torch.no_grad():\n",
        "        outputs = model(image)\n",
        "        probabilities = torch.nn.functional.softmax(outputs, dim=1)\n",
        "        predicted_class = torch.argmax(probabilities, dim=1).item()\n",
        "\n",
        "    class_name = class_names[predicted_class]\n",
        "    highest_prob = probabilities[0, predicted_class].item()\n",
        "\n",
        "    return predicted_class, class_name, highest_prob, probabilities.cpu().numpy()\n",
        "\n",
        "# --- MAIN FUNCTION FOR TESTING ---\n",
        "if __name__ == '__main__':\n",
        "    # Replace with the path to the training folders\n",
        "    class_names = ['mild', 'moderate', 'no_dr', 'poliferate', 'severe']  # Get class names from training data\n",
        "\n",
        "    model = load_model(weights_path='best_ensemble_model.pth')\n",
        "    test_image_path = '/content/ffd97f8cd5aa.png'  # Replace with your test image path\n",
        "\n",
        "    predicted_class, class_name, highest_prob, probabilities = infer(model, test_image_path, class_names)\n",
        "    print(f'Predicted Class: {predicted_class} ({class_name})')\n",
        "    print(f'Highest Probability: {highest_prob:.4f}')\n",
        "    print(f'Class Probabilities: {probabilities}')\n"
      ],
      "metadata": {
        "id": "TCz9gYkNV-eq"
      },
      "execution_count": null,
      "outputs": []
    },
    {
      "cell_type": "markdown",
      "source": [
        "# Clot Inference"
      ],
      "metadata": {
        "id": "nFF-AjNkWNA9"
      }
    },
    {
      "cell_type": "code",
      "execution_count": null,
      "metadata": {
        "id": "CuM7lIVCV1gI"
      },
      "outputs": [],
      "source": [
        "import torch\n",
        "import torch.nn as nn\n",
        "from torchvision import models, transforms\n",
        "from PIL import Image\n",
        "import os\n",
        "\n",
        "# Load the trained model\n",
        "device = torch.device('cuda' if torch.cuda.is_available() else 'cpu')\n",
        "\n",
        "# Specify the local path where the ResNet weights are saved\n",
        "local_weights_path = 'path/to/resnet18_weights.pth'\n",
        "\n",
        "# Load the ResNet18 model architecture\n",
        "model = models.resnet18()\n",
        "model.fc = nn.Linear(model.fc.in_features, 1)  # Binary classification head\n",
        "\n",
        "# Load the weights from the local path\n",
        "try:\n",
        "    state_dict = torch.load(local_weights_path, map_location=device)\n",
        "    model.load_state_dict(state_dict, strict=False)\n",
        "except (RuntimeError, FileNotFoundError) as e:\n",
        "    print(f\"Error loading the model weights: {e}\")\n",
        "    print(\"Check if the path is correct or the file is corrupted.\")\n",
        "    exit(1)\n",
        "\n",
        "# Load custom classifier weights\n",
        "try:\n",
        "    custom_state_dict = torch.load('clot.pth', map_location=device)\n",
        "    model.load_state_dict(custom_state_dict, strict=False)\n",
        "except RuntimeError as e:\n",
        "    print(f\"Error loading the custom model state dictionary: {e}\")\n",
        "    exit(1)\n",
        "\n",
        "model = model.to(device)\n",
        "model.eval()  # Set model to evaluation mode\n",
        "\n",
        "# Define the same transform used during training\n",
        "transform = transforms.Compose([\n",
        "    transforms.Resize((512, 384)),\n",
        "    transforms.ToTensor(),\n",
        "    transforms.Normalize([0.485, 0.456, 0.406], [0.229, 0.224, 0.225])\n",
        "])\n",
        "\n",
        "def predict(image_path):\n",
        "    \"\"\"\n",
        "    Perform inference on a single image.\n",
        "\n",
        "    Args:\n",
        "        image_path (str): Path to the input image.\n",
        "\n",
        "    Returns:\n",
        "        int: Predicted label (0 or 1).\n",
        "        float: Confidence score (between 0 and 1).\n",
        "    \"\"\"\n",
        "    if not os.path.exists(image_path):\n",
        "        raise FileNotFoundError(f\"Image not found: {image_path}\")\n",
        "\n",
        "    image = Image.open(image_path).convert(\"RGB\")\n",
        "    image = transform(image).unsqueeze(0).to(device)\n",
        "\n",
        "    with torch.no_grad():\n",
        "        output = model(image).view(-1)\n",
        "        confidence = torch.sigmoid(output).item()\n",
        "\n",
        "    prediction = 1 if confidence >= 0.5 else 0\n",
        "    return prediction, confidence\n",
        "\n",
        "# Example usage\n",
        "image_path = '817.jpg'\n",
        "prediction, confidence = predict(image_path)\n",
        "\n",
        "print(f\"Predicted Label: {prediction}, Confidence: {confidence:.4f}\")\n"
      ]
    }
  ]
}